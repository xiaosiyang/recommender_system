{
 "cells": [
  {
   "cell_type": "code",
   "execution_count": 2,
   "metadata": {},
   "outputs": [],
   "source": [
    "import numpy as np\n",
    "import pandas as pd\n",
    "import os\n",
    "import glob\n",
    "import pickle\n",
    "from collections import defaultdict\n",
    "from blob import blobConn\n",
    "from sklearn.decomposition import NMF\n",
    "from scipy import sparse\n",
    "from sklearn.metrics import mean_squared_error\n",
    "\n",
    "path = \"/Users/yang_home/Documents/learning/AI_dev/\""
   ]
  },
  {
   "cell_type": "code",
   "execution_count": 3,
   "metadata": {},
   "outputs": [
    {
     "name": "stdout",
     "output_type": "stream",
     "text": [
      "385\n"
     ]
    },
    {
     "data": {
      "text/html": [
       "<div>\n",
       "<style scoped>\n",
       "    .dataframe tbody tr th:only-of-type {\n",
       "        vertical-align: middle;\n",
       "    }\n",
       "\n",
       "    .dataframe tbody tr th {\n",
       "        vertical-align: top;\n",
       "    }\n",
       "\n",
       "    .dataframe thead th {\n",
       "        text-align: right;\n",
       "    }\n",
       "</style>\n",
       "<table border=\"1\" class=\"dataframe\">\n",
       "  <thead>\n",
       "    <tr style=\"text-align: right;\">\n",
       "      <th></th>\n",
       "      <th>user_id</th>\n",
       "      <th>session_id</th>\n",
       "      <th>session_start</th>\n",
       "      <th>session_size</th>\n",
       "      <th>click_article_id</th>\n",
       "      <th>click_timestamp</th>\n",
       "      <th>click_environment</th>\n",
       "      <th>click_deviceGroup</th>\n",
       "      <th>click_os</th>\n",
       "      <th>click_country</th>\n",
       "      <th>click_region</th>\n",
       "      <th>click_referrer_type</th>\n",
       "      <th>day_number</th>\n",
       "    </tr>\n",
       "  </thead>\n",
       "  <tbody>\n",
       "    <tr>\n",
       "      <th>0</th>\n",
       "      <td>93863</td>\n",
       "      <td>1507865792177843</td>\n",
       "      <td>1507865792000</td>\n",
       "      <td>2</td>\n",
       "      <td>96210</td>\n",
       "      <td>1507865832925</td>\n",
       "      <td>4</td>\n",
       "      <td>3</td>\n",
       "      <td>2</td>\n",
       "      <td>1</td>\n",
       "      <td>21</td>\n",
       "      <td>2</td>\n",
       "      <td>12</td>\n",
       "    </tr>\n",
       "    <tr>\n",
       "      <th>1</th>\n",
       "      <td>93863</td>\n",
       "      <td>1507865792177843</td>\n",
       "      <td>1507865792000</td>\n",
       "      <td>2</td>\n",
       "      <td>158094</td>\n",
       "      <td>1507865862925</td>\n",
       "      <td>4</td>\n",
       "      <td>3</td>\n",
       "      <td>2</td>\n",
       "      <td>1</td>\n",
       "      <td>21</td>\n",
       "      <td>2</td>\n",
       "      <td>12</td>\n",
       "    </tr>\n",
       "    <tr>\n",
       "      <th>2</th>\n",
       "      <td>294036</td>\n",
       "      <td>1507865795185844</td>\n",
       "      <td>1507865795000</td>\n",
       "      <td>2</td>\n",
       "      <td>20691</td>\n",
       "      <td>1507865819095</td>\n",
       "      <td>4</td>\n",
       "      <td>3</td>\n",
       "      <td>20</td>\n",
       "      <td>1</td>\n",
       "      <td>9</td>\n",
       "      <td>2</td>\n",
       "      <td>12</td>\n",
       "    </tr>\n",
       "    <tr>\n",
       "      <th>3</th>\n",
       "      <td>294036</td>\n",
       "      <td>1507865795185844</td>\n",
       "      <td>1507865795000</td>\n",
       "      <td>2</td>\n",
       "      <td>96210</td>\n",
       "      <td>1507865849095</td>\n",
       "      <td>4</td>\n",
       "      <td>3</td>\n",
       "      <td>20</td>\n",
       "      <td>1</td>\n",
       "      <td>9</td>\n",
       "      <td>2</td>\n",
       "      <td>12</td>\n",
       "    </tr>\n",
       "    <tr>\n",
       "      <th>4</th>\n",
       "      <td>77136</td>\n",
       "      <td>1507865796257845</td>\n",
       "      <td>1507865796000</td>\n",
       "      <td>2</td>\n",
       "      <td>336245</td>\n",
       "      <td>1507866133178</td>\n",
       "      <td>4</td>\n",
       "      <td>3</td>\n",
       "      <td>2</td>\n",
       "      <td>1</td>\n",
       "      <td>25</td>\n",
       "      <td>2</td>\n",
       "      <td>12</td>\n",
       "    </tr>\n",
       "  </tbody>\n",
       "</table>\n",
       "</div>"
      ],
      "text/plain": [
       "  user_id        session_id  session_start session_size click_article_id  \\\n",
       "0   93863  1507865792177843  1507865792000            2            96210   \n",
       "1   93863  1507865792177843  1507865792000            2           158094   \n",
       "2  294036  1507865795185844  1507865795000            2            20691   \n",
       "3  294036  1507865795185844  1507865795000            2            96210   \n",
       "4   77136  1507865796257845  1507865796000            2           336245   \n",
       "\n",
       "  click_timestamp click_environment click_deviceGroup click_os click_country  \\\n",
       "0   1507865832925                 4                 3        2             1   \n",
       "1   1507865862925                 4                 3        2             1   \n",
       "2   1507865819095                 4                 3       20             1   \n",
       "3   1507865849095                 4                 3       20             1   \n",
       "4   1507866133178                 4                 3        2             1   \n",
       "\n",
       "  click_region click_referrer_type  day_number  \n",
       "0           21                   2          12  \n",
       "1           21                   2          12  \n",
       "2            9                   2          12  \n",
       "3            9                   2          12  \n",
       "4           25                   2          12  "
      ]
     },
     "execution_count": 3,
     "metadata": {},
     "output_type": "execute_result"
    }
   ],
   "source": [
    "# read data\n",
    "filenames = glob.glob(path + 'news-portal-user-interactions-by-globocom/clicks/*.csv' )\n",
    "#filenames = glob.glob(path + 'news-portal-user-interactions-by-globocom/clicks/clicks_hour_[0-1][0-9][0-9].csv' )\n",
    "print(len(filenames))\n",
    "click = pd.DataFrame()\n",
    "for file in filenames:\n",
    "    f = pd.read_csv(file)\n",
    "    # add day number, 16 days of data in total\n",
    "    f['day_number'] = int(file.split('_')[-1].split('.')[0]) // 24\n",
    "    click = pd.concat([click, f], axis = 0)\n",
    "click.head()"
   ]
  },
  {
   "cell_type": "code",
   "execution_count": 52,
   "metadata": {},
   "outputs": [
    {
     "name": "stdout",
     "output_type": "stream",
     "text": [
      "46033\n",
      "364046\n",
      "322897\n",
      "322896\n"
     ]
    }
   ],
   "source": [
    "print(len(click.click_article_id.unique()))\n",
    "print(click.click_article_id.max())\n",
    "\n",
    "print(len(click.user_id.unique()))\n",
    "print(click.user_id.max())"
   ]
  },
  {
   "cell_type": "code",
   "execution_count": 39,
   "metadata": {},
   "outputs": [],
   "source": [
    "from sklearn.metrics import mean_squared_error\n",
    "\n",
    "def get_rmse(pred, actual):\n",
    "    \"\"\"Pred and actual are arrays\n",
    "    \"\"\"\n",
    "    print(f'actual non zero {len(actual.nonzero())}')\n",
    "    print(f'pred non zero {len(pred.nonzero())}')\n",
    "\n",
    "    pred = pred[actual.nonzero()].flatten()     # Ignore zero terms\n",
    "    actual = actual[actual.nonzero()].flatten() # Ignore zero terms\n",
    "    return np.sqrt(mean_squared_error(pred, actual))\n",
    "\n",
    "def get_sparse_matrix(data, shape=None):\n",
    "    \"\"\"data is the user article click dataframe\"\"\"\n",
    "    row = data.iloc[:,0].values\n",
    "    col = data.iloc[:,1].values\n",
    "    val = data.iloc[:,2].values\n",
    "    n_user = len(data.user_id.unique())\n",
    "    n_article = len(data.click_article_id.unique())\n",
    "    max_user_idx = max(row)\n",
    "    max_article_idx = max(col)\n",
    "    if not shape:\n",
    "        sparse_mat = sparse.csc_matrix((val, (row, col)), shape=(max_user_idx+1, max_article_idx+1))\n",
    "\n",
    "    else:\n",
    "        sparse_mat = sparse.csc_matrix((val, (row, col)), shape=(shape[0], shape[1]))\n",
    "\n",
    "    return sparse_mat\n",
    "\n",
    "\n",
    "def NMFModel(R, **params_NMF):\n",
    "    \"\"\"R is sparse matrix\"\"\"\n",
    "    model = NMF(**params_NMF)\n",
    "    W = model.fit_transform(R)\n",
    "    #H = model.components_\n",
    "    R_hat = model.inverse_transform(model.transform(R))\n",
    "    return R_hat\n",
    "\n",
    "'''\n",
    "def NMFTrain(R):\n",
    "    #train, test split\n",
    "    # train model\n",
    "    R_hat = NMFModel(R)\n",
    "    R_array = R.toarray()\n",
    "    # evaluate test result\n",
    "    rmse = get_rmse(R_hat, R_array)\n",
    "'''\n",
    "\n",
    "def get_interaction(raw_data):\n",
    "    user_article_click = raw_data.groupby(['user_id','click_article_id'],as_index=False).size()\n",
    "    user_article_click.rename(columns = {'size':'click'},inplace=True)\n",
    "    return user_article_click\n",
    "\n",
    "def sample_by_index(data, user_limit, article_limit):\n",
    "    ''' the click data is too big\n",
    "    this function is to get a portion of users and articles to train the model\n",
    "    Params:\n",
    "    data: user article click interaction\n",
    "    user_limit: user_id upper limit. (user_id start from 0 to 323896)\n",
    "    article_limit: article_id upper limit. (article_id start from 0 to 300k)\n",
    "    '''\n",
    "    df = data[(data['user_id']<=user_limit) & (data['click_article_id']<=article_limit)]\n",
    "    return df\n"
   ]
  },
  {
   "cell_type": "code",
   "execution_count": 45,
   "metadata": {},
   "outputs": [
    {
     "name": "stdout",
     "output_type": "stream",
     "text": [
      "train shape is (29904, 3), test shape is (12278, 3)\n",
      "(10001, 100001)\n",
      "(10001, 100001)\n"
     ]
    }
   ],
   "source": [
    "train0, test0 = click[click['day_number']<=10], click[click['day_number']>10]\n",
    "# further select user and article to reduce computation time\n",
    "max_user = 10000\n",
    "max_article = 100000\n",
    "train1, test1 = sample_by_index(train0,max_user,max_article), sample_by_index(test0,max_user,max_article)\n",
    "\n",
    "train = get_interaction(train1)\n",
    "test = get_interaction(test1)\n",
    "print(f'train shape is {train.shape}, test shape is {test.shape}')\n",
    "\n",
    "R_train = get_sparse_matrix(train,shape=[max_user+1, max_article+1])\n",
    "R_test = get_sparse_matrix(test, shape=[max_user+1, max_article+1])\n",
    "\n",
    "print(R_train.toarray().shape)\n",
    "print(R_test.toarray().shape)\n",
    "\n"
   ]
  },
  {
   "cell_type": "code",
   "execution_count": null,
   "metadata": {},
   "outputs": [],
   "source": []
  },
  {
   "cell_type": "code",
   "execution_count": null,
   "metadata": {},
   "outputs": [],
   "source": []
  },
  {
   "cell_type": "code",
   "execution_count": 53,
   "metadata": {},
   "outputs": [],
   "source": [
    "params_NMF = {\n",
    "                'n_components' : 10,\n",
    "                #'alpha_W' : 0.01,\n",
    "                'l1_ratio' : 0, \n",
    "                'max_iter' : 200\n",
    "            }\n",
    "\n",
    "R_pred = NMFModel(R_train, **params_NMF)\n"
   ]
  },
  {
   "cell_type": "code",
   "execution_count": 54,
   "metadata": {},
   "outputs": [
    {
     "name": "stdout",
     "output_type": "stream",
     "text": [
      "(array([    1,     2,     5, ..., 10000, 10000, 10000]), array([36162, 30760, 50405, ..., 38625, 96210, 97616]))\n",
      "1.036346361177813\n"
     ]
    }
   ],
   "source": [
    "perf = get_rmse(R_pred,R_test.toarray())\n",
    "print(perf)\n",
    "res.append([params_NMF, perf])\n"
   ]
  },
  {
   "cell_type": "code",
   "execution_count": 55,
   "metadata": {},
   "outputs": [
    {
     "data": {
      "text/plain": [
       "[[{'n_components': 10, 'l1_ratio': 0, 'max_iter': 200}, 1.0169295709720507],\n",
       " [{'n_components': 50, 'l1_ratio': 0, 'max_iter': 200}, 1.017592297333309],\n",
       " [{'n_components': 200, 'l1_ratio': 0, 'max_iter': 200}, 1.018296430847357],\n",
       " [{'n_components': 30, 'l1_ratio': 0, 'max_iter': 200}, 1.0173389514411704],\n",
       " [{'n_components': 10, 'l1_ratio': 0, 'max_iter': 100}, 1.0363461268469882],\n",
       " [{'n_components': 10, 'l1_ratio': 0, 'max_iter': 200}, 1.036346361177813]]"
      ]
     },
     "execution_count": 55,
     "metadata": {},
     "output_type": "execute_result"
    }
   ],
   "source": [
    "res"
   ]
  },
  {
   "cell_type": "code",
   "execution_count": 38,
   "metadata": {},
   "outputs": [
    {
     "name": "stdout",
     "output_type": "stream",
     "text": [
      "672\n",
      "498\n"
     ]
    },
    {
     "data": {
      "text/plain": [
       "154"
      ]
     },
     "execution_count": 38,
     "metadata": {},
     "output_type": "execute_result"
    }
   ],
   "source": [
    "\n",
    "\n"
   ]
  },
  {
   "cell_type": "code",
   "execution_count": null,
   "metadata": {},
   "outputs": [],
   "source": []
  },
  {
   "cell_type": "code",
   "execution_count": 13,
   "metadata": {},
   "outputs": [
    {
     "data": {
      "text/html": [
       "<div>\n",
       "<style scoped>\n",
       "    .dataframe tbody tr th:only-of-type {\n",
       "        vertical-align: middle;\n",
       "    }\n",
       "\n",
       "    .dataframe tbody tr th {\n",
       "        vertical-align: top;\n",
       "    }\n",
       "\n",
       "    .dataframe thead th {\n",
       "        text-align: right;\n",
       "    }\n",
       "</style>\n",
       "<table border=\"1\" class=\"dataframe\">\n",
       "  <thead>\n",
       "    <tr style=\"text-align: right;\">\n",
       "      <th></th>\n",
       "      <th>user_id</th>\n",
       "      <th>article_id</th>\n",
       "      <th>click</th>\n",
       "    </tr>\n",
       "  </thead>\n",
       "  <tbody>\n",
       "    <tr>\n",
       "      <th>2950705</th>\n",
       "      <td>322894</td>\n",
       "      <td>168401</td>\n",
       "      <td>1</td>\n",
       "    </tr>\n",
       "    <tr>\n",
       "      <th>2950706</th>\n",
       "      <td>322895</td>\n",
       "      <td>63746</td>\n",
       "      <td>1</td>\n",
       "    </tr>\n",
       "    <tr>\n",
       "      <th>2950707</th>\n",
       "      <td>322895</td>\n",
       "      <td>289197</td>\n",
       "      <td>1</td>\n",
       "    </tr>\n",
       "    <tr>\n",
       "      <th>2950708</th>\n",
       "      <td>322896</td>\n",
       "      <td>30760</td>\n",
       "      <td>1</td>\n",
       "    </tr>\n",
       "    <tr>\n",
       "      <th>2950709</th>\n",
       "      <td>322896</td>\n",
       "      <td>157507</td>\n",
       "      <td>1</td>\n",
       "    </tr>\n",
       "  </tbody>\n",
       "</table>\n",
       "</div>"
      ],
      "text/plain": [
       "         user_id  article_id  click\n",
       "2950705   322894      168401      1\n",
       "2950706   322895       63746      1\n",
       "2950707   322895      289197      1\n",
       "2950708   322896       30760      1\n",
       "2950709   322896      157507      1"
      ]
     },
     "execution_count": 13,
     "metadata": {},
     "output_type": "execute_result"
    }
   ],
   "source": []
  },
  {
   "cell_type": "code",
   "execution_count": null,
   "metadata": {},
   "outputs": [],
   "source": []
  },
  {
   "cell_type": "code",
   "execution_count": null,
   "metadata": {},
   "outputs": [],
   "source": []
  },
  {
   "cell_type": "code",
   "execution_count": null,
   "metadata": {},
   "outputs": [],
   "source": []
  },
  {
   "cell_type": "code",
   "execution_count": 21,
   "metadata": {},
   "outputs": [],
   "source": []
  },
  {
   "cell_type": "code",
   "execution_count": null,
   "metadata": {},
   "outputs": [],
   "source": []
  },
  {
   "cell_type": "code",
   "execution_count": null,
   "metadata": {},
   "outputs": [],
   "source": []
  }
 ],
 "metadata": {
  "kernelspec": {
   "display_name": "venv",
   "language": "python",
   "name": "python3"
  },
  "language_info": {
   "codemirror_mode": {
    "name": "ipython",
    "version": 3
   },
   "file_extension": ".py",
   "mimetype": "text/x-python",
   "name": "python",
   "nbconvert_exporter": "python",
   "pygments_lexer": "ipython3",
   "version": "3.9.6"
  },
  "orig_nbformat": 4
 },
 "nbformat": 4,
 "nbformat_minor": 2
}
